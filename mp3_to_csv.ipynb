{
 "cells": [
  {
   "cell_type": "markdown",
   "id": "1c4714f8",
   "metadata": {},
   "source": [
    "### Set the audio file path (MP3)"
   ]
  },
  {
   "cell_type": "code",
   "execution_count": null,
   "id": "b1bda7f9",
   "metadata": {},
   "outputs": [],
   "source": [
    "from pathlib import Path\n",
    "audio_path: Path = Path.cwd() / 'data' / 'tB-kOE__X2o.mp3'"
   ]
  },
  {
   "cell_type": "markdown",
   "id": "55be6e3d",
   "metadata": {},
   "source": [
    "### Import the file"
   ]
  },
  {
   "cell_type": "code",
   "execution_count": null,
   "id": "4c350e11",
   "metadata": {},
   "outputs": [],
   "source": [
    "%%time\n",
    "import librosa\n",
    "x,_ = librosa.load(str(audio_path), sr=16000)"
   ]
  },
  {
   "cell_type": "markdown",
   "id": "f944c754",
   "metadata": {},
   "source": [
    "### Convert to data frame and review summary stats"
   ]
  },
  {
   "cell_type": "code",
   "execution_count": null,
   "id": "3eb5e407",
   "metadata": {},
   "outputs": [],
   "source": [
    "%%time\n",
    "import pandas as pd\n",
    "df = pd.DataFrame({'signal':x})\n",
    "df['signal'].describe()"
   ]
  },
  {
   "cell_type": "markdown",
   "id": "6f4f72f7",
   "metadata": {},
   "source": [
    "### Save to CSV"
   ]
  },
  {
   "cell_type": "code",
   "execution_count": null,
   "id": "39bc2f53",
   "metadata": {},
   "outputs": [],
   "source": [
    "%%time\n",
    "print(f\"Saving to {output_path := str(audio_path).replace('mp3', 'csv')}\")\n",
    "df.to_csv(output_path)"
   ]
  }
 ],
 "metadata": {
  "kernelspec": {
   "display_name": "Python 3 (ipykernel)",
   "language": "python",
   "name": "python3"
  },
  "language_info": {
   "codemirror_mode": {
    "name": "ipython",
    "version": 3
   },
   "file_extension": ".py",
   "mimetype": "text/x-python",
   "name": "python",
   "nbconvert_exporter": "python",
   "pygments_lexer": "ipython3",
   "version": "3.8.10"
  }
 },
 "nbformat": 4,
 "nbformat_minor": 5
}
